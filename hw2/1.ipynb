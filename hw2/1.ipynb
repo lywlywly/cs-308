{
 "cells": [
  {
   "cell_type": "code",
   "execution_count": null,
   "metadata": {},
   "outputs": [],
   "source": [
    "import json\n",
    "\n",
    "import matplotlib.pyplot as plt\n",
    "import numpy as np"
   ]
  },
  {
   "cell_type": "code",
   "execution_count": null,
   "metadata": {},
   "outputs": [],
   "source": [
    "with open(\"runtimes_iterative.json\", \"r\") as f:\n",
    "    runtimes_iterative = json.load(f)\n",
    "with open(\"recursive_runtime.json\", \"r\") as f:\n",
    "    runtimes_recursive = json.load(f)"
   ]
  },
  {
   "cell_type": "code",
   "execution_count": null,
   "metadata": {},
   "outputs": [],
   "source": [
    "plt.scatter(np.arange(len(runtimes_iterative)), runtimes_iterative)\n",
    "plt.title(\"Running time of iterative Fibonacci numbers computation\")\n",
    "plt.ylabel(\"Second\")\n",
    "plt.xlabel(\"n\")\n",
    "plt.savefig(\"runtimes_iterative.png\", bbox_inches=\"tight\")"
   ]
  },
  {
   "cell_type": "code",
   "execution_count": null,
   "metadata": {},
   "outputs": [],
   "source": [
    "plt.scatter(np.arange(len(runtimes_recursive)), runtimes_recursive)\n",
    "plt.title(\"Running time of recursive Fibonacci numbers computation\")\n",
    "plt.ylabel(\"Second\")\n",
    "plt.xlabel(\"n\")\n",
    "plt.savefig(\"runtimes_recursive.png\", bbox_inches=\"tight\")"
   ]
  },
  {
   "cell_type": "code",
   "execution_count": null,
   "metadata": {},
   "outputs": [],
   "source": []
  }
 ],
 "metadata": {
  "kernelspec": {
   "display_name": ".venv",
   "language": "python",
   "name": "python3"
  },
  "language_info": {
   "codemirror_mode": {
    "name": "ipython",
    "version": 3
   },
   "file_extension": ".py",
   "mimetype": "text/x-python",
   "name": "python",
   "nbconvert_exporter": "python",
   "pygments_lexer": "ipython3",
   "version": "3.12.2"
  }
 },
 "nbformat": 4,
 "nbformat_minor": 2
}
