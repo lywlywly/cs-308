{
 "cells": [
  {
   "cell_type": "code",
   "execution_count": 1,
   "metadata": {},
   "outputs": [
    {
     "name": "stdout",
     "output_type": "stream",
     "text": [
      "Optimal Solution:\n",
      "x1 = 12.0\n",
      "x2 = 8.0\n",
      "Optimal Value (Z) = 632.0\n"
     ]
    }
   ],
   "source": [
    "from scipy.optimize import linprog\n",
    "\n",
    "# objective function coefficients, scipy minimizes the objective function by default\n",
    "c = [-36, -25]\n",
    "\n",
    "# inequality constraints matrix\n",
    "A = [[1, 0], [0, 1], [1, 1]]\n",
    "\n",
    "# inequality constraints vector\n",
    "b = [12, 16, 20]\n",
    "\n",
    "# bounds for decision variables\n",
    "x1_bounds = (0, 12)\n",
    "x2_bounds = (0, 16)\n",
    "\n",
    "# solve\n",
    "result = linprog(c, A_ub=A, b_ub=b, bounds=[x1_bounds, x2_bounds], method=\"highs\")\n",
    "\n",
    "x1_optimal = result.x[0]\n",
    "x2_optimal = result.x[1]\n",
    "optimal_value = -result.fun  # negate the objective value back to maximize\n",
    "\n",
    "print(\"Optimal Solution:\")\n",
    "print(\"x1 =\", x1_optimal)\n",
    "print(\"x2 =\", x2_optimal)\n",
    "print(\"Optimal Value (Z) =\", optimal_value)"
   ]
  },
  {
   "cell_type": "code",
   "execution_count": 2,
   "metadata": {},
   "outputs": [
    {
     "name": "stdout",
     "output_type": "stream",
     "text": [
      "Optimal Solution:\n",
      "x1 = 12.0\n",
      "x2 = 8.0\n",
      "Optimal Value (Z) = 632.0\n"
     ]
    }
   ],
   "source": [
    "from ortools.linear_solver import pywraplp\n",
    "\n",
    "solver = pywraplp.Solver.CreateSolver(\"GLOP\")\n",
    "\n",
    "# decision variables\n",
    "x1 = solver.NumVar(0, 12, \"x1\")\n",
    "x2 = solver.NumVar(0, 16, \"x2\")\n",
    "\n",
    "# objective function\n",
    "objective = solver.Objective()\n",
    "objective.SetCoefficient(x1, 36)\n",
    "objective.SetCoefficient(x2, 25)\n",
    "objective.SetMaximization()\n",
    "\n",
    "# constraints\n",
    "constraint1 = solver.Constraint(-solver.infinity(), 12)\n",
    "constraint1.SetCoefficient(x1, 1)\n",
    "\n",
    "constraint2 = solver.Constraint(-solver.infinity(), 16)\n",
    "constraint2.SetCoefficient(x2, 1)\n",
    "\n",
    "constraint3 = solver.Constraint(-solver.infinity(), 20)\n",
    "constraint3.SetCoefficient(x1, 1)\n",
    "constraint3.SetCoefficient(x2, 1)\n",
    "\n",
    "# solve\n",
    "solver.Solve()\n",
    "optimal_value = solver.Objective().Value()\n",
    "x1_optimal = x1.solution_value()\n",
    "x2_optimal = x2.solution_value()\n",
    "\n",
    "print(\"Optimal Solution:\")\n",
    "print(\"x1 =\", x1_optimal)\n",
    "print(\"x2 =\", x2_optimal)\n",
    "print(\"Optimal Value (Z) =\", optimal_value)"
   ]
  }
 ],
 "metadata": {
  "kernelspec": {
   "display_name": ".venv",
   "language": "python",
   "name": "python3"
  },
  "language_info": {
   "codemirror_mode": {
    "name": "ipython",
    "version": 3
   },
   "file_extension": ".py",
   "mimetype": "text/x-python",
   "name": "python",
   "nbconvert_exporter": "python",
   "pygments_lexer": "ipython3",
   "version": "3.12.3"
  }
 },
 "nbformat": 4,
 "nbformat_minor": 2
}
